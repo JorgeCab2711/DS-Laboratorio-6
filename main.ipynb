{
 "cells": [
  {
   "cell_type": "markdown",
   "metadata": {},
   "source": [
    "### Laboratorio 6 \n",
    "\n",
    "Jorge Caballeros Pérez 20009\n",
    "\n",
    "Alejandra Guzmán Dominguez 20262"
   ]
  },
  {
   "cell_type": "markdown",
   "metadata": {},
   "source": [
    "#### __Ejercicio 1__\n",
    "Extraiga los datos relacionados con el tráfico en la ciudad de Guatemala, puede utilizar cualquier\n",
    "red social, a la que se tenga acceso, y pueden extraerse datos de varias. Por ejemplo, si extrae datos\n",
    "de twitter (ahora X) podría utilizar los hashtag #TraficoGT, #TransitoGT o @amilcarmontejo . Explore\n",
    "los datos que extraiga y descubra conocimiento, tendencias y elementos interesantes. ¿Cómo ha\n",
    "venido a complicar el tráfico en toda la ciudad la época de lluvia?¿El socavón de zona 5 ha tenido\n",
    "un impacto importante en el tráfico de la zona de la universidad?\n",
    "\n"
   ]
  },
  {
   "cell_type": "markdown",
   "metadata": {},
   "source": [
    "#### API CONNECTION "
   ]
  },
  {
   "cell_type": "code",
   "execution_count": 6,
   "metadata": {},
   "outputs": [
    {
     "name": "stdout",
     "output_type": "stream",
     "text": [
      "Successful Authentication\n"
     ]
    }
   ],
   "source": [
    "import tweepy\n",
    " \n",
    "# API keys that yous saved earlier\n",
    "api_key = \"gO5o6IdmYtEsvoxTriEVd7NLV\"\n",
    "api_secrets = \"WGoi1J2egVSF4apDty2yFGNDkCezfb822DLHRuB8hgZGy3tDtr\"\n",
    "access_token = \"1143036429725048832-NpvdqAWw5wueGQ7E7ULtoAWaxsbMmZ\"\n",
    "access_token_secret = \"nzH8fBcpdmJaipLa1EztqkSEjEznYH1zImx73KnoVgyUN\"\n",
    "client_id = 'UlJFOTk0bXJDalBOMXg1bnlQTTE6MTpjaQ'\n",
    "client_secret = 'iRAugQQhn28QOCn1eW8ZD6Khzp69xP_-rWhCE6mkMWupgzGsqs'\n",
    "\n",
    "# Authenticate to Twitter\n",
    "auth = tweepy.OAuthHandler(api_key,api_secrets)\n",
    "auth.set_access_token(access_token,access_token_secret)\n",
    " \n",
    "api = tweepy.API(auth)\n",
    " \n",
    "try:\n",
    "    api.verify_credentials()\n",
    "    print('Successful Authentication')\n",
    "    \n",
    "except:\n",
    "    print('Failed authentication')"
   ]
  }
 ],
 "metadata": {
  "kernelspec": {
   "display_name": "Python 3",
   "language": "python",
   "name": "python3"
  },
  "language_info": {
   "codemirror_mode": {
    "name": "ipython",
    "version": 3
   },
   "file_extension": ".py",
   "mimetype": "text/x-python",
   "name": "python",
   "nbconvert_exporter": "python",
   "pygments_lexer": "ipython3",
   "version": "3.11.3"
  },
  "orig_nbformat": 4
 },
 "nbformat": 4,
 "nbformat_minor": 2
}
